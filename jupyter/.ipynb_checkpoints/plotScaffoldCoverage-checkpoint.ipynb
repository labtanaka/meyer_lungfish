{
 "cells": [
  {
   "cell_type": "code",
   "execution_count": 3,
   "metadata": {},
   "outputs": [],
   "source": [
    "%matplotlib inline\n",
    "\n",
    "import matplotlib.pyplot as plt\n",
    "import statistics as stats\n",
    "\n",
    "import sys\n",
    "import pickle\n",
    "\n",
    "strPkl = '/groups/tanaka/Projects/lungfish-genome/manuscript/Revision_II/coverage/scaf02.3.coverage.pkl'\n",
    "strScaffoldID = 'scaf02.3'\n",
    "\n",
    "dat = None\n",
    "with(open(strPkl, 'rb')) as hFile:\n",
    "    dat = pickle.load(hFile)\n"
   ]
  },
  {
   "cell_type": "code",
   "execution_count": 4,
   "metadata": {},
   "outputs": [
    {
     "name": "stdout",
     "output_type": "stream",
     "text": [
      "1,356,672,875\n"
     ]
    }
   ],
   "source": [
    "print(f'{len(dat):,}')"
   ]
  },
  {
   "cell_type": "code",
   "execution_count": 5,
   "metadata": {},
   "outputs": [
    {
     "name": "stderr",
     "output_type": "stream",
     "text": [
      "ERROR:root:Internal Python error in the inspect module.\n",
      "Below is the traceback from this internal error.\n",
      "\n"
     ]
    },
    {
     "name": "stdout",
     "output_type": "stream",
     "text": [
      "Traceback (most recent call last):\n",
      "  File \"/software/system/jupyter/vbc_modules/lib/python3.6/site-packages/IPython/core/interactiveshell.py\", line 3331, in run_code\n",
      "    exec(code_obj, self.user_global_ns, self.user_ns)\n",
      "  File \"<ipython-input-5-6184366a9bbb>\", line 1, in <module>\n",
      "    mn = stats.mean(dat)\n",
      "  File \"/software/2020/software/python/3.6.6-foss-2018b/lib/python3.6/statistics.py\", line 312, in mean\n",
      "    T, total, count = _sum(data)\n",
      "  File \"/software/2020/software/python/3.6.6-foss-2018b/lib/python3.6/statistics.py\", line 148, in _sum\n",
      "    for n,d in map(_exact_ratio, values):\n",
      "  File \"/software/2020/software/python/3.6.6-foss-2018b/lib/python3.6/statistics.py\", line 201, in _exact_ratio\n",
      "    def _exact_ratio(x):\n",
      "KeyboardInterrupt\n",
      "\n",
      "During handling of the above exception, another exception occurred:\n",
      "\n",
      "Traceback (most recent call last):\n",
      "  File \"/software/system/jupyter/vbc_modules/lib/python3.6/site-packages/IPython/core/interactiveshell.py\", line 2044, in showtraceback\n",
      "    stb = value._render_traceback_()\n",
      "AttributeError: 'KeyboardInterrupt' object has no attribute '_render_traceback_'\n",
      "\n",
      "During handling of the above exception, another exception occurred:\n",
      "\n",
      "Traceback (most recent call last):\n",
      "  File \"/software/system/jupyter/vbc_modules/lib/python3.6/site-packages/IPython/core/ultratb.py\", line 1148, in get_records\n",
      "    return _fixed_getinnerframes(etb, number_of_lines_of_context, tb_offset)\n",
      "  File \"/software/system/jupyter/vbc_modules/lib/python3.6/site-packages/IPython/core/ultratb.py\", line 316, in wrapped\n",
      "    return f(*args, **kwargs)\n",
      "  File \"/software/system/jupyter/vbc_modules/lib/python3.6/site-packages/IPython/core/ultratb.py\", line 350, in _fixed_getinnerframes\n",
      "    records = fix_frame_records_filenames(inspect.getinnerframes(etb, context))\n",
      "  File \"/software/2020/software/python/3.6.6-foss-2018b/lib/python3.6/inspect.py\", line 1483, in getinnerframes\n",
      "    frameinfo = (tb.tb_frame,) + getframeinfo(tb, context)\n",
      "  File \"/software/2020/software/python/3.6.6-foss-2018b/lib/python3.6/inspect.py\", line 1441, in getframeinfo\n",
      "    filename = getsourcefile(frame) or getfile(frame)\n",
      "  File \"/software/2020/software/python/3.6.6-foss-2018b/lib/python3.6/inspect.py\", line 696, in getsourcefile\n",
      "    if getattr(getmodule(object, filename), '__loader__', None) is not None:\n",
      "  File \"/software/2020/software/python/3.6.6-foss-2018b/lib/python3.6/inspect.py\", line 732, in getmodule\n",
      "    for modname, module in list(sys.modules.items()):\n",
      "KeyboardInterrupt\n"
     ]
    },
    {
     "ename": "KeyboardInterrupt",
     "evalue": "",
     "output_type": "error",
     "traceback": [
      "\u001b[0;31m---------------------------------------------------------------------------\u001b[0m"
     ]
    }
   ],
   "source": [
    "mn = stats.mean(dat)\n",
    "sd = stats.stdev(dat)\n",
    "print(f'Mean: {mn}')\n",
    "print(f'SD: {sd}')"
   ]
  },
  {
   "cell_type": "code",
   "execution_count": 7,
   "metadata": {},
   "outputs": [
    {
     "name": "stderr",
     "output_type": "stream",
     "text": [
      "  Processed 1000 bins\n",
      "  Processed 2000 bins\n",
      "  Processed 3000 bins\n",
      "  Processed 4000 bins\n",
      "  Processed 5000 bins\n",
      "  Processed 6000 bins\n",
      "  Processed 7000 bins\n",
      "  Processed 8000 bins\n",
      "  Processed 9000 bins\n",
      "  Processed 10000 bins\n",
      "  Processed 11000 bins\n",
      "  Processed 12000 bins\n",
      "  Processed 13000 bins\n",
      "  Processed 14000 bins\n",
      "  Processed 15000 bins\n",
      "  Processed 16000 bins\n",
      "  Processed 17000 bins\n",
      "  Processed 18000 bins\n",
      "  Processed 19000 bins\n",
      "  Processed 20000 bins\n",
      "  Processed 21000 bins\n",
      "  Processed 22000 bins\n",
      "  Processed 23000 bins\n"
     ]
    },
    {
     "name": "stdout",
     "output_type": "stream",
     "text": [
      "23551\n"
     ]
    }
   ],
   "source": [
    "# Bin the data into pieces\n",
    "nBinSize = 5000\n",
    "bins = [0] * round(len(dat) / nBinSize)\n",
    "iBin = 0\n",
    "iPos = 0\n",
    "while iPos < len(dat):\n",
    "    bindata = dat[iPos : iPos + nBinSize]\n",
    "    iPos += nBinSize\n",
    "    bins[iBin] = stats.mean(bindata)\n",
    "    iBin += 1\n",
    "    \n",
    "    if iBin % 1000 == 0:\n",
    "        print(f'  Processed {iBin} bins', file=sys.stderr)\n",
    "    \n",
    "print(len(bins))"
   ]
  },
  {
   "cell_type": "code",
   "execution_count": 8,
   "metadata": {},
   "outputs": [
    {
     "name": "stdout",
     "output_type": "stream",
     "text": [
      "[{'start': 38366668, 'end': 38366830}, {'start': 38366833, 'end': 38366909}]\n",
      "[{'start': 208, 'end': 281}, {'start': 282, 'end': 296}]\n"
     ]
    }
   ],
   "source": [
    "import functools\n",
    "\n",
    "def compare(r1, r2):\n",
    "    if r1['start'] < r2['start']:\n",
    "        return -1\n",
    "    if r1['start'] > r2['start']:\n",
    "        return 1\n",
    "    if r1['end'] < r2['end']:\n",
    "        return -1\n",
    "    if r1['end'] > r2['end']:\n",
    "        return 1\n",
    "    return 0\n",
    "\n",
    "strRM = '/groups/tanaka/Projects/lungfish-genome/manuscript/Revision_II/NFOR_v3.1.repeatmasker.SCAFFOLDS.gff3'\n",
    "\n",
    "repeats = []\n",
    "with(open(strRM, 'r')) as hFile:\n",
    "    for line in hFile.readlines():\n",
    "        if line.startswith('#'):\n",
    "            continue\n",
    "        scafID, _, _, repeatStart, repeatEnd, rest = line.split('\\t', 5)\n",
    "        if scafID == strScaffoldID:\n",
    "            repeats.append({'start': int(repeatStart), 'end': int(repeatEnd)})\n",
    "print(repeats[1:3])\n",
    "repeats = sorted(repeats, key=functools.cmp_to_key(compare))\n",
    "print(repeats[1:3])"
   ]
  },
  {
   "cell_type": "code",
   "execution_count": 4,
   "metadata": {},
   "outputs": [
    {
     "ename": "NameError",
     "evalue": "name 'bins' is not defined",
     "output_type": "error",
     "traceback": [
      "\u001b[0;31m---------------------------------------------------------------------------\u001b[0m",
      "\u001b[0;31mNameError\u001b[0m                                 Traceback (most recent call last)",
      "\u001b[0;32m<ipython-input-4-fcd9e9beb258>\u001b[0m in \u001b[0;36m<module>\u001b[0;34m\u001b[0m\n\u001b[1;32m      5\u001b[0m \u001b[0;32mimport\u001b[0m \u001b[0mstatistics\u001b[0m \u001b[0;32mas\u001b[0m \u001b[0mstats\u001b[0m\u001b[0;34m\u001b[0m\u001b[0m\n\u001b[1;32m      6\u001b[0m \u001b[0;34m\u001b[0m\u001b[0m\n\u001b[0;32m----> 7\u001b[0;31m \u001b[0mbin_mean\u001b[0m \u001b[0;34m=\u001b[0m \u001b[0mstats\u001b[0m\u001b[0;34m.\u001b[0m\u001b[0mmean\u001b[0m\u001b[0;34m(\u001b[0m\u001b[0mbins\u001b[0m\u001b[0;34m)\u001b[0m\u001b[0;34m\u001b[0m\u001b[0m\n\u001b[0m\u001b[1;32m      8\u001b[0m \u001b[0mbin_std\u001b[0m \u001b[0;34m=\u001b[0m \u001b[0mstats\u001b[0m\u001b[0;34m.\u001b[0m\u001b[0mstdev\u001b[0m\u001b[0;34m(\u001b[0m\u001b[0mbins\u001b[0m\u001b[0;34m)\u001b[0m\u001b[0;34m\u001b[0m\u001b[0m\n\u001b[1;32m      9\u001b[0m \u001b[0;34m\u001b[0m\u001b[0m\n",
      "\u001b[0;31mNameError\u001b[0m: name 'bins' is not defined"
     ]
    }
   ],
   "source": [
    "import math\n",
    "from matplotlib.lines import Line2D\n",
    "import numpy as np\n",
    "from matplotlib import gridspec\n",
    "\n",
    "bin_mean = stats.mean(bins)\n",
    "bin_std = stats.stdev(bins)\n",
    "\n",
    "fig = plt.figure(figsize=(20,15))\n",
    "plt.rc('font', family='sans-serif') \n",
    "plt.rc('font', serif='Helvetica') \n",
    "plt.rc('text', usetex='false')\n",
    "\n",
    "#gs = gridspec.GridSpec(2, 1, height_ratios=[10, 1])\n",
    "#axs = [plt.subplot(gs[0]), plt.subplot(gs[1])] \n",
    "gs = gridspec.GridSpec(1, 1)\n",
    "axs = [plt.subplot(gs[0])]\n",
    "\n",
    "bins_log = [math.log(x) for x in bins]\n",
    "axs[0].fill_between(range(0, len(bins)), bins_log)\n",
    "axs[0].autoscale()\n",
    "\n",
    "reg_widths = []\n",
    "uhc_regs = []       # Ultra-high coverage regions\n",
    "reg_start = -1\n",
    "for idx, b in enumerate(bins):\n",
    "    if b >= 3 * (bin_mean + bin_std):\n",
    "        if reg_start == -1:\n",
    "            reg_start = idx\n",
    "    else:\n",
    "        if reg_start > -1:\n",
    "            reg_widths.append((idx - reg_start + 1) * nBinSize)\n",
    "            uhc_regs.append({'start': reg_start * nBinSize, 'end': idx * nBinSize})\n",
    "            axs[0].fill_between(range(reg_start, idx), bins_log[reg_start : idx], color='red')\n",
    "            reg_start = -1\n",
    "axs[0].axhline(math.log(bin_mean), color='green', linestyle='dotted')\n",
    "axs[0].axhline(math.log(bin_mean + bin_std), color='orange', linestyle='dashed')\n",
    "\n",
    "plt.sca(axs[0])\n",
    "locs, labels = plt.yticks()\n",
    "new_labels = []\n",
    "for y in locs:\n",
    "    new_labels.append(f'{int(math.exp(y)):,}')\n",
    "locs = np.append(locs, math.log(bin_mean))\n",
    "new_labels.append(f'Mean: {int(math.exp(locs[-1])):,}')\n",
    "locs = np.append(locs, math.log(bin_mean + bin_std))\n",
    "new_labels.append(f'Mean + 3SD: {int(math.exp(locs[-1])):,}')\n",
    "plt.yticks(locs, new_labels, fontsize=16)\n",
    "\n",
    "locs, labels = plt.xticks()\n",
    "new_labels = []\n",
    "for x in locs:\n",
    "    new_labels.append(f'{x * nBinSize / 1_000_000:,}Mb')\n",
    "new_labels[-1] = ''\n",
    "plt.xticks(locs, new_labels, fontsize=16)\n",
    "plt.xlim([0, len(bins)])\n",
    "plt.ylim([0, max(bins_log)])\n",
    "\n",
    "total_len = sum(reg_widths)\n",
    "print(f'Total length of {len(reg_widths)} extremely highly covered regions: {total_len:,}bp ({total_len/len(dat) * 100:.2}%)')\n",
    "print(f'Average size: {stats.mean(reg_widths):.2f}')\n",
    "\n",
    "custom_lines = [Line2D([0], [0], color='green', linestyle='dotted', lw=4),\n",
    "                Line2D([0], [0], color='orange', linestyle='dashed', lw=4),\n",
    "                Line2D([0], [0], color='red', lw=4)]\n",
    "axs[0].legend(custom_lines, ['Mean coverage', '3xSD', 'Coverage above mean+3SD'], fontsize=18)\n",
    "plt.xlabel('Genomic position', fontsize=18)\n",
    "plt.ylabel('Coverage', fontsize=18)\n",
    "plt.title(f'Coverage of {strScaffoldID}', fontsize=20)\n",
    "\n",
    "#plt.sca(axs[1])\n",
    "#plt.xlabel('Genomic position', fontsize=18)\n",
    "#plt.title(f'Repeats', fontsize=20)\n",
    "#axs[1].set_frame_on(False)\n",
    "#axs[1].tick_params(left=False)\n",
    "#axs[1].tick_params(labelleft=False)\n",
    "#plt.xticks(locs, new_labels, fontsize=16)\n",
    "#plt.xlim([0, len(bins)])"
   ]
  },
  {
   "cell_type": "code",
   "execution_count": 12,
   "metadata": {},
   "outputs": [
    {
     "name": "stdout",
     "output_type": "stream",
     "text": [
      "[{'start': 208, 'end': 281}, {'start': 282, 'end': 296}]\n",
      "[{'start': 14035000, 'end': 14050000}, {'start': 17015000, 'end': 17015000}]\n"
     ]
    }
   ],
   "source": [
    "print(repeats[1:3])\n",
    "print(uhc_regs[1:3])"
   ]
  },
  {
   "cell_type": "code",
   "execution_count": 14,
   "metadata": {},
   "outputs": [
    {
     "name": "stdout",
     "output_type": "stream",
     "text": [
      "178597\n",
      "   Start   End\n",
      "0      2   207\n",
      "1    208   281\n",
      "2    282   296\n",
      "3   1226  1388\n",
      "4   1385  2793\n"
     ]
    }
   ],
   "source": [
    "import pandas as pd\n",
    "print(len(repeats))\n",
    "tmp = []\n",
    "for r in repeats:\n",
    "    tmp.append([r['start'], r['end']])\n",
    "df = pd.DataFrame(data=tmp, columns=['Start', 'End'])\n",
    "print(df.head())"
   ]
  },
  {
   "cell_type": "code",
   "execution_count": 66,
   "metadata": {},
   "outputs": [
    {
     "name": "stdout",
     "output_type": "stream",
     "text": [
      "Region: 10225000-10230000 has 6656bp (133.12%) repeats\n",
      "Region: 14035000-14055000 has 27724bp (138.62%) repeats\n",
      "Region: 17015000-17020000 has 0bp (0.00%) repeats\n",
      "Region: 20305000-20310000 has 3210bp (64.20%) repeats\n",
      "Region: 29835000-29845000 has 370bp (3.70%) repeats\n",
      "Region: 30415000-30420000 has 10878bp (217.56%) repeats\n",
      "Region: 31815000-31820000 has 0bp (0.00%) repeats\n",
      "Region: 45105000-45110000 has 1237bp (24.74%) repeats\n",
      "Region: 46595000-46615000 has 15664bp (78.32%) repeats\n",
      "Region: 52490000-52500000 has 1981bp (19.81%) repeats\n",
      "Region: 59910000-59920000 has 10104bp (101.04%) repeats\n",
      "Region: 64570000-64575000 has 0bp (0.00%) repeats\n",
      "Region: 72720000-72725000 has 10330bp (206.60%) repeats\n",
      "Region: 77530000-77545000 has 9369bp (62.46%) repeats\n",
      "Region: 77565000-77590000 has 19041bp (76.16%) repeats\n",
      "Region: 77640000-77655000 has 9308bp (62.05%) repeats\n",
      "Region: 77670000-77675000 has 1898bp (37.96%) repeats\n",
      "Region: 77680000-77685000 has 3724bp (74.48%) repeats\n",
      "Region: 81425000-81455000 has 18004bp (60.01%) repeats\n",
      "Region: 81460000-81465000 has 2278bp (45.56%) repeats\n",
      "Region: 85720000-85745000 has 6018bp (24.07%) repeats\n",
      "Region: 85755000-85770000 has 3147bp (20.98%) repeats\n",
      "Region: 90095000-90105000 has 59bp (0.59%) repeats\n",
      "Region: 94795000-94805000 has 0bp (0.00%) repeats\n",
      "Region: 96245000-96250000 has 0bp (0.00%) repeats\n",
      "Region: 99210000-99215000 has 7602bp (152.04%) repeats\n",
      "Region: 100665000-100670000 has 0bp (0.00%) repeats\n",
      "Region: 106815000-106830000 has 0bp (0.00%) repeats\n",
      "Region: 117675000-117685000 has 4643bp (46.43%) repeats\n"
     ]
    }
   ],
   "source": [
    "# There are several possibilities\n",
    "# A\n",
    "# UHC region   |-------|       Repeat |------|           No overlap\n",
    "#\n",
    "# B\n",
    "# UHC region   |---------------------|\n",
    "# Repeat     |----| or  |---|  or |-----|   \n",
    "#\n",
    "# C\n",
    "# UHC region |----| or  |---|  or |-----|\n",
    "# Repeat        |---------------------|\n",
    "\n",
    "nNonEmpty = 0\n",
    "for r in uhc_regs:\n",
    "    reg_len = r['end'] - r['start']\n",
    "    tmp = df[df['Start'].between(r['start'], r['end'], inclusive=True) | \n",
    "             df['End'].between(r['start'], r['end'], inclusive=True) |\n",
    "             (r['start'] <= df['Start']) & (r['end'] >= df['Start'])]\n",
    "    rep_len = 0\n",
    "    if not tmp.empty:\n",
    "        for row in tmp.itertuples():\n",
    "            rep_len += row.End - row.Start\n",
    "    f = rep_len / reg_len * 100\n",
    "    print(f\"Region: {r['start']}-{r['end']} has {rep_len}bp ({f:.2f}%) repeats\")"
   ]
  },
  {
   "cell_type": "code",
   "execution_count": null,
   "metadata": {},
   "outputs": [],
   "source": []
  }
 ],
 "metadata": {
  "kernelspec": {
   "display_name": "Python 3",
   "language": "python",
   "name": "python3"
  },
  "language_info": {
   "codemirror_mode": {
    "name": "ipython",
    "version": 3
   },
   "file_extension": ".py",
   "mimetype": "text/x-python",
   "name": "python",
   "nbconvert_exporter": "python",
   "pygments_lexer": "ipython3",
   "version": "3.6.6"
  }
 },
 "nbformat": 4,
 "nbformat_minor": 4
}
