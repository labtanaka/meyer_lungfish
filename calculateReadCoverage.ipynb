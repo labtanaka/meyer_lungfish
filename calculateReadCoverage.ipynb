{
 "cells": [
  {
   "cell_type": "code",
   "execution_count": 2,
   "metadata": {},
   "outputs": [
    {
     "name": "stderr",
     "output_type": "stream",
     "text": [
      "Reading the file /groups/tanaka/Projects/lungfish-genome/manuscript/Revision_II/winnowmap/full.paf\n",
      "   Read 10000000 lines\n",
      "   Read 20000000 lines\n",
      "   Read 30000000 lines\n",
      "   Read 40000000 lines\n",
      "   Read 50000000 lines\n",
      "   Read 60000000 lines\n",
      "   Read 70000000 lines\n",
      "   Read 80000000 lines\n",
      "   Read 90000000 lines\n",
      "   Read 100000000 lines\n",
      "   Read 110000000 lines\n",
      "   Read 120000000 lines\n",
      "   Read 130000000 lines\n",
      "   Read 140000000 lines\n",
      "   Read 150000000 lines\n",
      "   Read 160000000 lines\n"
     ]
    }
   ],
   "source": [
    "%matplotlib inline\n",
    "\n",
    "import matplotlib.pyplot as plt\n",
    "import sys\n",
    "import re\n",
    "\n",
    "strPAF_in = '/groups/tanaka/Projects/lungfish-genome/manuscript/Revision_II/winnowmap/full.paf'\n",
    "\n",
    "reads = dict()\n",
    "nLines = 0\n",
    "print(f'Reading the file {strPAF_in}', file=sys.stderr)\n",
    "with(open(strPAF_in, 'r')) as hFile:\n",
    "    for line in hFile.readlines():\n",
    "        readID, readLen, readStart, readEnd, readStrand, targetID, targetLen, targetStart, targetEnd, rest = line.split('\\t', 9)\n",
    "        \n",
    "        nLines += 1\n",
    "        if nLines % 10_000_000 == 0:\n",
    "            print(f'   Read {nLines} lines', file=sys.stderr)\n",
    "        \n",
    "        if not reads.get(readID):\n",
    "            reads[readID] = {'length': int(readLen), 'regions': [], 'chr': set()}\n",
    "        reads[readID]['regions'].append([int(readStart), int(readEnd)])\n",
    "        \n",
    "        # Add the target chromosome to the list\n",
    "        reads[readID]['chr'].add(targetID)"
   ]
  },
  {
   "cell_type": "code",
   "execution_count": null,
   "metadata": {},
   "outputs": [],
   "source": [
    "import pdb\n",
    "\n",
    "\n",
    "cov_data = []\n",
    "for readID in reads:\n",
    "    \n",
    "    # Merge the regions\n",
    "    nr_regions = []\n",
    "    for reg in reads[readID]['regions']:\n",
    "        for old_reg in nr_regions:\n",
    "            if (old_reg[0] <= reg[0] <= old_reg[1] \n",
    "                   or old_reg[0] <= reg[1] <= old_reg[1]\n",
    "                   or reg[0] <= old_reg[0] <= reg[1] \n",
    "                   or reg[0] <= old_reg[1] <= reg[1]):\n",
    "                old_reg[0] = min(old_reg[0], reg[0])\n",
    "                old_reg[1] = max(old_reg[1], reg[1])\n",
    "                reg = None\n",
    "                break\n",
    "        if reg:\n",
    "            nr_regions.append(reg)\n",
    "\n",
    "    rc = 0\n",
    "    for reg in nr_regions:\n",
    "        rc += (reg[1] - reg[0])\n",
    "    if rc > reads[readID]['length']:\n",
    "        print(f'ID: {readID}')\n",
    "        print(f'Original: {reads[readID]}')\n",
    "        print(f'Reduced: {nr_regions}')\n",
    "        break\n",
    "    cov_data.append(int(rc / reads[readID]['length'] * 100))\n",
    "    \n",
    "print(max(cov_data))\n",
    "print(min(cov_data))\n",
    "#data_norm = [ min(x, 101) for x in data ]\n",
    "#plt.hist(data_norm, bins=101)"
   ]
  },
  {
   "cell_type": "code",
   "execution_count": null,
   "metadata": {},
   "outputs": [],
   "source": []
  }
 ],
 "metadata": {
  "kernelspec": {
   "display_name": "Python 3",
   "language": "python",
   "name": "python3"
  },
  "language_info": {
   "codemirror_mode": {
    "name": "ipython",
    "version": 3
   },
   "file_extension": ".py",
   "mimetype": "text/x-python",
   "name": "python",
   "nbconvert_exporter": "python",
   "pygments_lexer": "ipython3",
   "version": "3.6.6"
  }
 },
 "nbformat": 4,
 "nbformat_minor": 4
}
