{
 "cells": [
  {
   "cell_type": "code",
   "execution_count": 1,
   "metadata": {},
   "outputs": [
    {
     "name": "stderr",
     "output_type": "stream",
     "text": [
      "Extracting the data for scaf02.3:1353660000-1353735000\n",
      "Reading the file /groups/tanaka/Projects/lungfish-genome/manuscript/Revision_II/winnowmap/full.paf\n"
     ]
    }
   ],
   "source": [
    "import sys\n",
    "import re\n",
    "\n",
    "strPAF_in = '/groups/tanaka/Projects/lungfish-genome/manuscript/Revision_II/winnowmap/full.paf'\n",
    "strLocus = 'scaf02.3:1353660000-1353735000'\n",
    "strPDF_out = '/groups/tanaka/Projects/lungfish-genome/manuscript/Revision_II/winnowmap/figure.pdf'\n",
    "\n",
    "locus = {'chr': strLocus, 'start': 0, 'end': -1}\n",
    "\n",
    "m = re.search('([^:]+):([0-9]+)-([0-9]+)', strLocus)\n",
    "if m:\n",
    "    locus['chr'] = m.group(1)\n",
    "    locus['start'] = int(m.group(2))\n",
    "    locus['end'] = int(m.group(3))\n",
    "print(f\"Extracting the data for {locus['chr']}:{locus['start']}-{locus['end']}\", file=sys.stderr)\n",
    "\n",
    "print(f'Reading the file {strPAF_in}', file=sys.stderr)\n",
    "lines = []\n",
    "coord_lims = [-1, -1]\n",
    "with(open(strPAF_in, 'r')) as hFile:\n",
    "    for line in hFile.readlines():\n",
    "        readID, readLen, readStart, readEnd, readStrand, targetID, targetLen, targetStart, targetEnd, rest = line.split('\\t', 9)\n",
    "        if targetID == locus['chr']:\n",
    "            if locus['end'] == -1:\n",
    "                locus['end'] = int(targetLen)\n",
    "\n",
    "            if coord_lims[0] == -1:\n",
    "                coord_lims[0] = int(targetStart)\n",
    "                coord_lims[1] = int(targetEnd)\n",
    "             \n",
    "            if locus['start'] <= int(targetStart) <= locus['end'] or locus['start'] <= int(targetEnd) <= locus['end']:\n",
    "                lines.append([readID, readLen, readStart, readEnd, readStrand, targetID, targetLen, targetStart, targetEnd, rest])\n",
    "                if int(targetStart) < coord_lims[0]:\n",
    "                    coord_lims[0] = int(targetStart)\n",
    "                if int(targetEnd) > coord_lims[1]:\n",
    "                    coord_lims[1] = int(targetEnd)"
   ]
  },
  {
   "cell_type": "code",
   "execution_count": 2,
   "metadata": {},
   "outputs": [],
   "source": [
    "# Load the BED file to display repeats\n",
    "strBED = '/groups/tanaka/Projects/lungfish-genome/manuscript/Revision_II/NFOR_v3.1.repeatmasker.NCBI_SCAFFOLDS.gff3'\n",
    "repeats = []\n",
    "with(open(strBED, 'r')) as hFile:\n",
    "    for line in hFile.readlines():\n",
    "        if line.startswith('#'):\n",
    "            continue\n",
    "        scafID, _, _, repeatStart, repeatEnd, rest = line.split('\\t', 5)\n",
    "        if scafID == locus['chr'] and locus['start'] <= int(repeatStart) <= locus['end'] or locus['start'] <= int(repeatEnd) <= locus['end']:\n",
    "            repeats.append({'start': int(repeatStart) - coord_lims[0], 'end': int(repeatEnd) - coord_lims[0]})\n"
   ]
  },
  {
   "cell_type": "code",
   "execution_count": 5,
   "metadata": {},
   "outputs": [
    {
     "name": "stdout",
     "output_type": "stream",
     "text": [
      "1364\n"
     ]
    }
   ],
   "source": [
    "print(len(repeats))"
   ]
  },
  {
   "cell_type": "code",
   "execution_count": 10,
   "metadata": {},
   "outputs": [
    {
     "name": "stdout",
     "output_type": "stream",
     "text": [
      "Processing line 1 of 7701\n",
      "Processing line 1001 of 7701\n",
      "Processing line 2001 of 7701\n",
      "Processing line 3001 of 7701\n",
      "Processing line 4001 of 7701\n",
      "Processing line 5001 of 7701\n",
      "Processing line 6001 of 7701\n",
      "Processing line 7001 of 7701\n"
     ]
    }
   ],
   "source": [
    "%matplotlib inline\n",
    "\n",
    "import matplotlib.pyplot as plt\n",
    "import statistics as stats\n",
    "import matplotlib\n",
    "from matplotlib import collections as mc\n",
    "from matplotlib.lines import Line2D\n",
    "from matplotlib.collections import PatchCollection\n",
    "\n",
    "coverage = None\n",
    "pos_min = -1\n",
    "pos_max = -1\n",
    "regions = dict()\n",
    "\n",
    "for idx, line in enumerate(lines):\n",
    "    \n",
    "    if idx % 1000 == 0:\n",
    "        print(f'Processing line {idx+1} of {len(lines)}')\n",
    "    \n",
    "    readID, readLen, readStart, readEnd, readStrand, targetID, targetLen, targetStart, targetEnd, rest = line\n",
    "    \n",
    "    targetLen = str(coord_lims[1] - coord_lims[0])\n",
    "    targetStart = str(int(targetStart) - coord_lims[0])\n",
    "    targetEnd = str(int(targetEnd) - coord_lims[0])\n",
    "\n",
    "    if not coverage:\n",
    "        coverage = [0] * int(targetLen)\n",
    "\n",
    "    # Make sure the aligned portion of the read is at least 10% of its length, otherwise skip the read\n",
    "    if ((int(readEnd) - int(readStart)) / int(readLen) >= 0.1) and int(readEnd) - int(readStart) > 1000:\n",
    "        for i in range(int(targetStart), int(targetEnd)):\n",
    "            coverage[i] += 1\n",
    "        if not regions.get(readID):\n",
    "            regions[readID] = []\n",
    "        regions[readID].append({'t_s': int(targetStart), 't_e': int(targetEnd), 'r_c': (int(readEnd) - int(readStart)) / int(readLen)})\n",
    "\n",
    "    if pos_min == -1 or int(targetStart) < pos_min:\n",
    "        pos_min = int(targetStart)\n",
    "\n",
    "    if pos_max == -1 or int(targetEnd) > pos_max:\n",
    "        pos_max = int(targetEnd)"
   ]
  },
  {
   "cell_type": "code",
   "execution_count": 14,
   "metadata": {},
   "outputs": [],
   "source": [
    "cov = coverage[pos_min : pos_max]\n",
    "mn = stats.mean(cov)\n",
    "sd = stats.stdev(cov)"
   ]
  },
  {
   "cell_type": "code",
   "execution_count": null,
   "metadata": {},
   "outputs": [],
   "source": [
    "# Coverage track\n",
    "fig, axs = plt.subplots(3,1, figsize=(20,10))\n",
    "axs[2].fill_between(range(pos_min + 1, pos_max + 1), cov)\n",
    "axs[2].axhline(mn, color='red', linestyle='dotted')\n",
    "#axs[2].axhline(mn + sd, color='green', linestyle='dashed')\n",
    "#axs[2].axhline(mn - sd, color='green', linestyle='dashed')\n",
    "axs[2].axvline(int(locus['start']) - coord_lims[0], linestyle='dashed', color='green')\n",
    "axs[2].axvline(int(locus['end']) - coord_lims[0], linestyle='dashed', color='green')\n",
    "axs[2].grid()\n",
    "plt.sca(axs[2])\n",
    "locs, labels = plt.xticks()\n",
    "new_labels = []\n",
    "for x in locs:\n",
    "    if x < 1:\n",
    "        new_labels.append('')\n",
    "    else:\n",
    "        new_labels.append(f'{int(x + coord_lims[0]):,}')\n",
    "new_labels[-1] = ''\n",
    "plt.xticks(locs, new_labels)\n",
    "plt.xlim([pos_min, pos_max])\n",
    "\n",
    "# Repeats track\n",
    "patches = []\n",
    "y = 1\n",
    "for r in repeats:\n",
    "    patches.append(matplotlib.patches.Rectangle((r['start'], y), r['end'] - r['start'], 0.5))\n",
    "    y += 1\n",
    "    if y == 11:\n",
    "        y = 1\n",
    "axs[1].add_collection(PatchCollection(patches))\n",
    "axs[1].autoscale()\n",
    "plt.sca(axs[1])\n",
    "plt.xticks(locs, new_labels)\n",
    "plt.xlim([pos_min, pos_max])\n",
    "axs[1].set_frame_on(False)\n",
    "axs[1].tick_params(left=False)\n",
    "axs[1].tick_params(labelleft=False)\n",
    "\n",
    "# Reads track\n",
    "plot_lines = []\n",
    "colors = []\n",
    "idx = 1\n",
    "for reg in regions:\n",
    "    y = idx * 1\n",
    "    rc = 0 # Total coverage of the current read\n",
    "    for r in regions[reg]:\n",
    "        plot_lines.append([(r['t_s'], y), (r['t_e'], y)])\n",
    "        rc += r['r_c']\n",
    "    if rc >= 0.9:\n",
    "        colors.append('green')\n",
    "    elif rc >= 0.75:\n",
    "        colors.append('yellow')\n",
    "    elif rc >= 0.5:\n",
    "        colors.append('orange')\n",
    "    else:\n",
    "        colors.append('red')\n",
    "    idx += 1\n",
    "lc = mc.LineCollection(plot_lines, colors=colors, linewidths=5)\n",
    "axs[0].add_collection(lc)\n",
    "axs[0].autoscale()\n",
    "custom_lines = [Line2D([0], [0], color='green', lw=4),\n",
    "                Line2D([0], [0], color='yellow', lw=4),\n",
    "                Line2D([0], [0], color='orange', lw=4),\n",
    "                Line2D([0], [0], color='red', lw=4)]\n",
    "axs[0].legend(custom_lines, ['>= 90%', '75-90%', '50-75%', '<50%'])\n",
    "plt.sca(axs[0])\n",
    "plt.xticks(locs, new_labels)\n",
    "plt.xlim([pos_min, pos_max])\n",
    "axs[0].set_frame_on(False)\n",
    "axs[0].tick_params(left=False)\n",
    "axs[0].tick_params(labelleft=False)\n",
    "\n",
    "plt.title(f\"{locus['chr']}:{locus['start']:,}-{locus['end']:,}\")\n"
   ]
  },
  {
   "cell_type": "code",
   "execution_count": null,
   "metadata": {},
   "outputs": [],
   "source": []
  },
  {
   "cell_type": "code",
   "execution_count": null,
   "metadata": {},
   "outputs": [],
   "source": []
  }
 ],
 "metadata": {
  "kernelspec": {
   "display_name": "Python 3",
   "language": "python",
   "name": "python3"
  },
  "language_info": {
   "codemirror_mode": {
    "name": "ipython",
    "version": 3
   },
   "file_extension": ".py",
   "mimetype": "text/x-python",
   "name": "python",
   "nbconvert_exporter": "python",
   "pygments_lexer": "ipython3",
   "version": "3.6.6"
  }
 },
 "nbformat": 4,
 "nbformat_minor": 4
}
