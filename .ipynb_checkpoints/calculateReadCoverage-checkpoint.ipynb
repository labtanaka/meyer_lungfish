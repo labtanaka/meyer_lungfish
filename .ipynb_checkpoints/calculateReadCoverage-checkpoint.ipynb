{
 "cells": [
  {
   "cell_type": "code",
   "execution_count": 1,
   "metadata": {},
   "outputs": [
    {
     "name": "stderr",
     "output_type": "stream",
     "text": [
      "Reading the file /groups/tanaka/Projects/lungfish-genome/manuscript/Revision_II/winnowmap/full.paf\n",
      "   Read 20000000 lines\n",
      "   Read 40000000 lines\n",
      "   Read 60000000 lines\n",
      "   Read 80000000 lines\n",
      "   Read 100000000 lines\n",
      "   Read 120000000 lines\n",
      "   Read 140000000 lines\n",
      "   Read 160000000 lines\n"
     ]
    }
   ],
   "source": [
    "%matplotlib inline\n",
    "\n",
    "import matplotlib.pyplot as plt\n",
    "import sys\n",
    "import re\n",
    "\n",
    "strPAF_in = '/groups/tanaka/Projects/lungfish-genome/manuscript/Revision_II/winnowmap/full.paf'\n",
    "\n",
    "reads = dict()\n",
    "nLines = 0\n",
    "print(f'Reading the file {strPAF_in}', file=sys.stderr)\n",
    "with(open(strPAF_in, 'r')) as hFile:\n",
    "    for line in hFile.readlines():\n",
    "        readID, readLen, readStart, readEnd, readStrand, targetID, targetLen, targetStart, targetEnd, rest = line.split('\\t', 9)\n",
    "        \n",
    "        nLines += 1\n",
    "        if nLines % 20_000_000 == 0:\n",
    "            print(f'   Read {nLines} lines', file=sys.stderr)\n",
    "        \n",
    "        if not reads.get(readID):\n",
    "            reads[readID] = {'length': int(readLen), 'regions': [], 'chr': set()}\n",
    "        reads[readID]['regions'].append([int(readStart), int(readEnd)])\n",
    "        \n",
    "        # Add the target chromosome to the list\n",
    "        reads[readID]['chr'].add(targetID)"
   ]
  },
  {
   "cell_type": "code",
   "execution_count": 29,
   "metadata": {},
   "outputs": [],
   "source": [
    "class Solution(object):\n",
    "   def merge(self, intervals):\n",
    "      \"\"\"\n",
    "      :type intervals: List[Interval]\n",
    "      :rtype: List[Interval]\n",
    "      \"\"\"\n",
    "      if len(intervals) == 0:\n",
    "         return []\n",
    "      self.quicksort(intervals,0,len(intervals)-1)\n",
    "      #for i in intervals:\n",
    "         #print(i.start, i.end)\n",
    "      stack = []\n",
    "      stack.append(intervals[0])\n",
    "      for i in range(1,len(intervals)):\n",
    "         last_element= stack[len(stack)-1]\n",
    "         if last_element[1] >= intervals[i][0]:\n",
    "            last_element[1] = max(intervals[i][1],last_element[1])\n",
    "            stack.pop(len(stack)-1)\n",
    "            stack.append(last_element)\n",
    "         else:\n",
    "            stack.append(intervals[i])\n",
    "      return stack\n",
    "   def partition(self,array,start,end):\n",
    "      pivot_index = start\n",
    "      for i in range(start,end):\n",
    "         if array[i][0]<=array[end][0]:\n",
    "            array[i],array[pivot_index] =array[pivot_index],array[i]\n",
    "            pivot_index+=1\n",
    "      array[end],array[pivot_index] =array[pivot_index],array[end]\n",
    "      return pivot_index\n",
    "   def quicksort(self,array,start,end):\n",
    "      if start<end:\n",
    "         partition_index = self.partition(array,start,end)\n",
    "         self.quicksort(array,start,partition_index-1)\n",
    "         self.quicksort(array, partition_index + 1, end)"
   ]
  },
  {
   "cell_type": "code",
   "execution_count": 32,
   "metadata": {},
   "outputs": [
    {
     "name": "stdout",
     "output_type": "stream",
     "text": [
      "ID: 23ef5cd0-9dbf-4303-9bc6-6a8f17b35d93\n",
      "Original: {'length': 7409, 'regions': [[52, 7519], [72, 7519]], 'chr': {'scaf08'}}\n",
      "Reduced: [[52, 7519]]\n",
      "100\n",
      "0\n"
     ]
    }
   ],
   "source": [
    "cov_data = []\n",
    "for readID in reads:\n",
    "    \n",
    "    ob1 = Solution()\n",
    "    nr_regions = ob1.merge(reads[readID]['regions'])\n",
    "\n",
    "    rc = 0\n",
    "    for reg in nr_regions:\n",
    "        rc += (reg[1] - reg[0])\n",
    "    if rc > reads[readID]['length']:\n",
    "        print(f'ID: {readID}')\n",
    "        print(f'Original: {reads[readID]}')\n",
    "        print(f'Reduced: {nr_regions}')\n",
    "        break\n",
    "    cov_data.append(int(rc / reads[readID]['length'] * 100))\n",
    "    \n",
    "print(max(cov_data))\n",
    "print(min(cov_data))"
   ]
  },
  {
   "cell_type": "code",
   "execution_count": 34,
   "metadata": {},
   "outputs": [
    {
     "data": {
      "text/plain": [
       "(array([  33239.,   68525.,  101317.,  165143.,  233563.,  236549.,\n",
       "         195476.,  156887.,  127772.,  113781.,  116119.,  118334.,\n",
       "         119075.,  119362.,  118897.,  118603.,  118395.,  118089.,\n",
       "         117926.,  118102.,  121760.,  123055.,  126486.,  126986.,\n",
       "         129385.,  130920.,  131160.,  131397.,  131332.,  132299.,\n",
       "         133827.,  135151.,  137140.,  138055.,  137557.,  138410.,\n",
       "         139080.,  139351.,  140475.,  141324.,  143903.,  147156.,\n",
       "         149666.,  153016.,  155710.,  160507.,  164377.,  168202.,\n",
       "         172150.,  174090.,  180609.,  183579.,  186923.,  188975.,\n",
       "         190725.,  193581.,  195048.,  196198.,  196915.,  199247.,\n",
       "         201834.,  204503.,  206900.,  210655.,  216067.,  220740.,\n",
       "         225955.,  231927.,  237837.,  246272.,  252645.,  259302.,\n",
       "         269389.,  278725.,  287820.,  303055.,  314934.,  329121.,\n",
       "         345564.,  362164.,  381519.,  400897.,  422426.,  446925.,\n",
       "         475510.,  509559.,  550344.,  595071.,  646528.,  698432.,\n",
       "         751168.,  804471.,  866522.,  939305., 1019330., 1109546.,\n",
       "        1182740., 1184795.,  958514.,  272515.]),\n",
       " array([  0.,   1.,   2.,   3.,   4.,   5.,   6.,   7.,   8.,   9.,  10.,\n",
       "         11.,  12.,  13.,  14.,  15.,  16.,  17.,  18.,  19.,  20.,  21.,\n",
       "         22.,  23.,  24.,  25.,  26.,  27.,  28.,  29.,  30.,  31.,  32.,\n",
       "         33.,  34.,  35.,  36.,  37.,  38.,  39.,  40.,  41.,  42.,  43.,\n",
       "         44.,  45.,  46.,  47.,  48.,  49.,  50.,  51.,  52.,  53.,  54.,\n",
       "         55.,  56.,  57.,  58.,  59.,  60.,  61.,  62.,  63.,  64.,  65.,\n",
       "         66.,  67.,  68.,  69.,  70.,  71.,  72.,  73.,  74.,  75.,  76.,\n",
       "         77.,  78.,  79.,  80.,  81.,  82.,  83.,  84.,  85.,  86.,  87.,\n",
       "         88.,  89.,  90.,  91.,  92.,  93.,  94.,  95.,  96.,  97.,  98.,\n",
       "         99., 100.]),\n",
       " <a list of 100 Patch objects>)"
      ]
     },
     "execution_count": 34,
     "metadata": {},
     "output_type": "execute_result"
    },
    {
     "data": {
      "image/png": "[encoded data removed]",
      "text/plain": [
       "<Figure size 432x288 with 1 Axes>"
      ]
     },
     "metadata": {
      "needs_background": "light"
     },
     "output_type": "display_data"
    }
   ],
   "source": [
    "plt.hist(cov_data, bins=100)"
   ]
  },
  {
   "cell_type": "code",
   "execution_count": 35,
   "metadata": {},
   "outputs": [
    {
     "name": "stdout",
     "output_type": "stream",
     "text": [
      "68.81600988880133\n"
     ]
    }
   ],
   "source": [
    "import statistics\n",
    "\n",
    "print(statistics.mean(cov_data))"
   ]
  },
  {
   "cell_type": "code",
   "execution_count": 37,
   "metadata": {},
   "outputs": [
    {
     "data": {
      "text/plain": [
       "(array([8.2527185e+07, 5.1397230e+06, 1.9224240e+06, 3.0633000e+05,\n",
       "        1.3791000e+04, 3.1640000e+03, 3.3100000e+02, 1.9000000e+01,\n",
       "        7.0000000e+00, 5.0000000e+00]),\n",
       " array([ 1. ,  3.6,  6.2,  8.8, 11.4, 14. , 16.6, 19.2, 21.8, 24.4, 27. ]),\n",
       " <a list of 10 Patch objects>)"
      ]
     },
     "execution_count": 37,
     "metadata": {},
     "output_type": "execute_result"
    },
    {
     "data": {
      "image/png": "[encoded data removed]",
      "text/plain": [
       "<Figure size 432x288 with 1 Axes>"
      ]
     },
     "metadata": {
      "needs_background": "light"
     },
     "output_type": "display_data"
    }
   ],
   "source": [
    "scaf_counts = []\n",
    "for readID in reads:\n",
    "    scaf_counts.append(len(list(reads[readID]['chr'])))"
   ]
  },
  {
   "cell_type": "code",
   "execution_count": 38,
   "metadata": {},
   "outputs": [
    {
     "data": {
      "text/plain": [
       "(array([8.0446452e+07, 2.0807330e+06, 1.5800700e+06, 1.7067370e+06,\n",
       "        1.8529160e+06, 1.3267200e+06, 5.9570400e+05, 2.1117700e+05,\n",
       "        7.0452000e+04, 2.4701000e+04, 9.6690000e+03, 4.1220000e+03,\n",
       "        1.9040000e+03, 8.7400000e+02, 3.8600000e+02, 1.8100000e+02,\n",
       "        9.8000000e+01, 5.2000000e+01, 1.2000000e+01, 7.0000000e+00,\n",
       "        5.0000000e+00, 1.0000000e+00, 1.0000000e+00, 0.0000000e+00,\n",
       "        5.0000000e+00]),\n",
       " array([ 1.  ,  2.04,  3.08,  4.12,  5.16,  6.2 ,  7.24,  8.28,  9.32,\n",
       "        10.36, 11.4 , 12.44, 13.48, 14.52, 15.56, 16.6 , 17.64, 18.68,\n",
       "        19.72, 20.76, 21.8 , 22.84, 23.88, 24.92, 25.96, 27.  ]),\n",
       " <a list of 25 Patch objects>)"
      ]
     },
     "execution_count": 38,
     "metadata": {},
     "output_type": "execute_result"
    },
    {
     "data": {
      "image/png": "[encoded data removed]",
      "text/plain": [
       "<Figure size 432x288 with 1 Axes>"
      ]
     },
     "metadata": {
      "needs_background": "light"
     },
     "output_type": "display_data"
    }
   ],
   "source": [
    "plt.hist(scaf_counts, bins=25)"
   ]
  },
  {
   "cell_type": "code",
   "execution_count": null,
   "metadata": {},
   "outputs": [],
   "source": [
    "cov_data_single = []\n",
    "for readID in reads:\n",
    "    \n",
    "    if len(reads[readID]['chr']) == 1:\n",
    "        ob1 = Solution()\n",
    "        nr_regions = ob1.merge(reads[readID]['regions'])\n",
    "\n",
    "        rc = 0\n",
    "        for reg in nr_regions:\n",
    "            rc += (reg[1] - reg[0])\n",
    "        if rc > reads[readID]['length']:\n",
    "            print(f'ID: {readID}')\n",
    "            print(f'Original: {reads[readID]}')\n",
    "            print(f'Reduced: {nr_regions}')\n",
    "            break\n",
    "        cov_data_single.append(int(rc / reads[readID]['length'] * 100))\n",
    "plt.hist(cov_data_single, bins=100)"
   ]
  }
 ],
 "metadata": {
  "kernelspec": {
   "display_name": "Python 3",
   "language": "python",
   "name": "python3"
  },
  "language_info": {
   "codemirror_mode": {
    "name": "ipython",
    "version": 3
   },
   "file_extension": ".py",
   "mimetype": "text/x-python",
   "name": "python",
   "nbconvert_exporter": "python",
   "pygments_lexer": "ipython3",
   "version": "3.6.6"
  }
 },
 "nbformat": 4,
 "nbformat_minor": 4
}
